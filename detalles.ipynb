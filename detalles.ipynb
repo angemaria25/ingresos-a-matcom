{
 "cells": [
  {
   "cell_type": "markdown",
   "metadata": {},
   "source": [
    "### Modificar base de datos de las bajas"
   ]
  },
  {
   "cell_type": "code",
   "execution_count": 20,
   "metadata": {},
   "outputs": [],
   "source": [
    "import pandas as pd\n",
    "\n",
    "df = pd.read_excel(\"Bajas MATCOM.xlsx\")\n",
    "\n",
    "df.to_csv(\"resultado.csv\", index=False)\n",
    "\n",
    "data = pd.read_csv(\"resultado.csv\")\n",
    "\n",
    "data[\"Apellidos y Nombres\"] = data['2do. Apellido'] + ' ' + data['1er. Apellido'] + ' ' + data['Nombre']\n",
    "\n",
    "data = data.drop(columns=['Nombre', '1er. Apellido', '2do. Apellido'])\n",
    "\n",
    "columnas = list(data.columns)\n",
    "columnas.insert(1, columnas.pop(columnas.index(\"Apellidos y Nombres\")))\n",
    "data = data[columnas]\n",
    "\n",
    "data.to_csv('Bajas.csv', index=False)"
   ]
  },
  {
   "cell_type": "code",
   "execution_count": 1,
   "metadata": {},
   "outputs": [],
   "source": [
    "import pandas as pd\n",
    "\n",
    "data = {\n",
    "    'Provincia': ['CIUDAD DE LA HABANA', 'MATANZAS', 'ISLA DE LA JUVENTUD', 'ARTEMISA', 'MAYABEQUE', 'PINAR DEL RIO', 'VILLA CLARA', 'CIENFUEGOS', 'SANCTI SPIRITUS', 'CIEGO DE AVILA', 'CAMAGUEY', 'LAS TUNAS', 'HOLGUIN', 'GRANMA', 'SANTIAGO DE CUBA', 'GUANTANAMO'],\n",
    "    'Latitud': [23.1353, 23.0418, 21.8833, 22.8136, 22.9614, 22.4167, 22.4095, 22.1496, 21.9333, 21.8400, 21.3808, 20.9617, 20.8872, 20.3871, 20.0208, 20.1444],\n",
    "    'Longitud': [-82.3589, -81.5775, -82.8000, -82.7594, -82.0275, -83.6981, -79.9667, -80.4466, -79.5000, -78.7619, -77.9169, -76.9511, -76.2631, -76.6436, -75.8219, -75.2092]\n",
    "}\n",
    "df = pd.DataFrame(data)\n",
    "df.to_csv('coordenadas_provincias.csv', index=False)"
   ]
  },
  {
   "cell_type": "code",
   "execution_count": 2,
   "metadata": {},
   "outputs": [],
   "source": [
    "import pandas as pd\n",
    "\n",
    "df = pd.read_csv(\"./datos/datos-ingresos.csv\", encoding=\"ISO-8859-1\")\n",
    "\n",
    "columna = 'Preuniversitario'\n",
    "palabra_a_buscar = 'VLADIMIR ILICH LENIN'\n",
    "palabra_de_reemplazo = 'IPVCE VLADIMIR ILICH LENIN'\n",
    "\n",
    "df[columna] = df[columna].replace(palabra_a_buscar, palabra_de_reemplazo)\n",
    "\n",
    "df.to_csv('tu_archivo_modificado.csv', index=False)"
   ]
  },
  {
   "cell_type": "markdown",
   "metadata": {},
   "source": [
    "### Bajas con Curso"
   ]
  },
  {
   "cell_type": "code",
   "execution_count": 20,
   "metadata": {},
   "outputs": [],
   "source": [
    "import pandas as pd\n",
    "\n",
    "ingresos_df = pd.read_csv(\"./datos/datos-ingresos.csv\", encoding=\"ISO-8859-1\")\n",
    "bajas_df = pd.read_csv(\"./datos/Listado de Bajas.csv\", encoding=\"ISO-8859-1\")\n",
    "\n",
    "bajas_df['Apellidos y Nombres'] = bajas_df['Apellidos y Nombres'].str.upper()\n",
    "bajas_df['Carrera'] = bajas_df['Carrera'].str.upper()\n",
    "\n",
    "coincidencias_df = pd.merge(bajas_df[['CI', 'Apellidos y Nombres', 'Carrera']],\n",
    "                            ingresos_df[['CI', 'Apellidos y Nombres', 'Carrera', 'Curso']],\n",
    "                            on='CI', how='inner')\n",
    "\n",
    "coincidencias_df.to_csv('bajas_con_curso.csv', index=False)\n"
   ]
  },
  {
   "cell_type": "markdown",
   "metadata": {},
   "source": [
    "### Mezclar bajas en data ingresos"
   ]
  },
  {
   "cell_type": "code",
   "execution_count": 21,
   "metadata": {},
   "outputs": [],
   "source": [
    "import pandas as pd\n",
    "\n",
    "ingresos_df = pd.read_csv(\"./datos/datos-ingresos.csv\", encoding=\"ISO-8859-1\")\n",
    "bajas_df = pd.read_csv(\"./datos/Listado de Bajas.csv\", encoding=\"ISO-8859-1\")\n",
    "\n",
    "ingresos_df['Estado'] = pd.NA\n",
    "\n",
    "ingresos_df.loc[ingresos_df['CI'].isin(bajas_df['CI']), 'Estado'] = 'Baja'\n",
    "\n",
    "ingresos_df.to_csv('datos.csv', index=False)"
   ]
  },
  {
   "cell_type": "markdown",
   "metadata": {},
   "source": [
    "### Convertir los datos a json"
   ]
  },
  {
   "cell_type": "code",
   "execution_count": 27,
   "metadata": {},
   "outputs": [],
   "source": [
    "import pandas as pd\n",
    "import json\n",
    "\n",
    "df = pd.read_csv(\"datos\\datos.csv\", encoding=\"ISO-8859-1\")\n",
    "pd.set_option('display.max_columns', None)  \n",
    "pd.set_option('display.max_colwidth', None)  \n",
    "pd.set_option('display.expand_frame_repr', False)  \n",
    "\n",
    "json_data = df.to_json(orient='records', force_ascii=False)\n",
    "\n",
    "with open('datos.json', 'w', encoding='utf-8') as file:\n",
    "    json.dump(json.loads(json_data), file, ensure_ascii=False, indent=4)"
   ]
  }
 ],
 "metadata": {
  "kernelspec": {
   "display_name": "Python 3",
   "language": "python",
   "name": "python3"
  },
  "language_info": {
   "codemirror_mode": {
    "name": "ipython",
    "version": 3
   },
   "file_extension": ".py",
   "mimetype": "text/x-python",
   "name": "python",
   "nbconvert_exporter": "python",
   "pygments_lexer": "ipython3",
   "version": "3.10.10"
  }
 },
 "nbformat": 4,
 "nbformat_minor": 2
}
